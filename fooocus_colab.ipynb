{
  "cells": [
    {
      "cell_type": "code",
      "execution_count": null,
      "metadata": {
        "id": "VjYy0F2gZIPR"
      },
      "outputs": [],
      "source": [
        "!pip install pygit2==1.15.1\n",
        "%cd /content\n",
        "!git clone https://github.com/lllyasviel/Fooocus.git"
      ]
    },
    {
      "cell_type": "code",
      "source": [
        "# --- วางลิงก์โมเดล (URL) ที่นี่ (ใส่หลายๆ อันได้เลย บรรทัดละ 1 ลิงก์) ---\n",
        "model_urls = \"\"\"\n",
        "https://civitai.com/api/download/models/176425?type=Model&format=SafeTensor&size=pruned&fp=fp16\n",
        "https://civitai.com/api/download/models/501240?type=Model&format=SafeTensor&size=pruned&fp=fp16\n",
        "https://civitai.com/api/download/models/143906?type=Model&format=SafeTensor&size=pruned&fp=fp16\n",
        "https://civitai.com/api/download/models/199325?type=Model&format=SafeTensor&size=full&fp=fp16\n",
        "https://civitai.com/api/download/models/517783?type=Model&format=SafeTensor&size=full&fp=fp16\n",
        "\"\"\"\n",
        "\n",
        "# --- โค้ดสำหรับดาวน์โหลด ---\n",
        "import os\n",
        "import requests\n",
        "from urllib.parse import unquote\n",
        "\n",
        "def download_model(url):\n",
        "    if not url.strip():\n",
        "        return\n",
        "    try:\n",
        "        response = requests.get(url, stream=True)\n",
        "        response.raise_for_status()\n",
        "        disposition = response.headers.get('content-disposition')\n",
        "        if disposition:\n",
        "            filename = unquote(disposition.split('filename=')[-1].strip('\"'))\n",
        "        else:\n",
        "            filename = os.path.basename(unquote(url.split('?')[0]))\n",
        "\n",
        "        destination_folder = \"/content/Fooocus/models/checkpoints/\"\n",
        "        os.makedirs(destination_folder, exist_ok=True)\n",
        "        destination_path = os.path.join(destination_folder, filename)\n",
        "\n",
        "        print(f\"Downloading {filename}...\")\n",
        "        with open(destination_path, 'wb') as f:\n",
        "            for chunk in response.iter_content(chunk_size=8192):\n",
        "                f.write(chunk)\n",
        "        print(f\"✅ Downloaded '{filename}' successfully!\")\n",
        "    except Exception as e:\n",
        "        print(f\"❌ Failed to download from {url}. Error: {e}\")\n",
        "\n",
        "# Loop through each URL and download\n",
        "for url in model_urls.strip().split('\\n'):\n",
        "    download_model(url)"
      ],
      "metadata": {
        "id": "Vj5OIAsQAPK-"
      },
      "execution_count": null,
      "outputs": []
    },
    {
      "cell_type": "code",
      "source": [
        "%cd /content/Fooocus\n",
        "!python entry_with_update.py --share --always-high-vram"
      ],
      "metadata": {
        "id": "0jqsSRcbAUCC"
      },
      "execution_count": null,
      "outputs": []
    }
  ],
  "metadata": {
    "accelerator": "GPU",
    "colab": {
      "gpuType": "T4",
      "provenance": []
    },
    "kernelspec": {
      "display_name": "Python 3",
      "name": "python3"
    },
    "language_info": {
      "name": "python"
    }
  },
  "nbformat": 4,
  "nbformat_minor": 0
}